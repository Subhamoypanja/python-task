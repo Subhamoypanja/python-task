{
 "cells": [
  {
   "cell_type": "code",
   "execution_count": 2,
   "id": "d623af77",
   "metadata": {},
   "outputs": [
    {
     "name": "stdout",
     "output_type": "stream",
     "text": [
      "Enter the marks of English:80\n",
      "Enter the marks of Math:75\n",
      "Enter the marks of Physics:82\n",
      "Enter the marks of Chemistry:77\n",
      "Enter the marks of Biology:90\n",
      "Total Marks Obtained 404.0 Out of 500\n",
      "Total Percentage =  80.8\n",
      " First Class\n"
     ]
    }
   ],
   "source": [
    "Sub1=float(input(\"Enter the marks of English:\"))\n",
    "Sub2=float(input(\"Enter the marks of Math:\"))\n",
    "Sub3=float(input(\"Enter the marks of Physics:\"))\n",
    "Sub4=float(input(\"Enter the marks of Chemistry:\"))\n",
    "Sub5=float(input(\"Enter the marks of Biology:\"))\n",
    "\n",
    "Sum=Sub1+Sub2+Sub3+Sub4+Sub5\n",
    "percentage=Sum/5\n",
    "print(\"Total Marks Obtained\", Sum, \"Out of 500\")\n",
    "print(\"Total Percentage = \",percentage)\n",
    "if percentage>=90:\n",
    "    print(\"Distinction\")\n",
    "else:\n",
    "    if percentage>=80:\n",
    "        print(\" First Class\")\n",
    "    else:\n",
    "        if percentage>=70:\n",
    "             print(\"Second Class\")\n",
    "        else:\n",
    "            if percentage>=60:\n",
    "                print(\"Pass\")\n",
    "            else:\n",
    "                print(\"Fail\")"
   ]
  },
  {
   "cell_type": "code",
   "execution_count": null,
   "id": "32b63f31",
   "metadata": {},
   "outputs": [],
   "source": []
  },
  {
   "cell_type": "code",
   "execution_count": null,
   "id": "5af51d7d",
   "metadata": {},
   "outputs": [],
   "source": []
  }
 ],
 "metadata": {
  "kernelspec": {
   "display_name": "Python 3 (ipykernel)",
   "language": "python",
   "name": "python3"
  },
  "language_info": {
   "codemirror_mode": {
    "name": "ipython",
    "version": 3
   },
   "file_extension": ".py",
   "mimetype": "text/x-python",
   "name": "python",
   "nbconvert_exporter": "python",
   "pygments_lexer": "ipython3",
   "version": "3.9.12"
  }
 },
 "nbformat": 4,
 "nbformat_minor": 5
}
